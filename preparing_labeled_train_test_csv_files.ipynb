{
 "cells": [
  {
   "cell_type": "code",
   "execution_count": 1,
   "metadata": {},
   "outputs": [],
   "source": [
    "import numpy as np \n",
    "import pandas as pd \n",
    "import random\n",
    "\n",
    "import cv2\n",
    "import os\n"
   ]
  },
  {
   "cell_type": "markdown",
   "metadata": {},
   "source": [
    "### 1. Preparing training and test csv files"
   ]
  },
  {
   "cell_type": "code",
   "execution_count": 3,
   "metadata": {},
   "outputs": [
    {
     "name": "stdout",
     "output_type": "stream",
     "text": [
      "the data list is:  ['daisy', 'dandelion', 'rose', 'sunflower', 'tulip']\n"
     ]
    }
   ],
   "source": [
    "root_dir = r'D:\\2020\\Trainings\\self_supervised_learning'\n",
    "images_dir = os.path.join(root_dir,'dataset','flowers')\n",
    "\n",
    "data_dir_list = os.listdir(images_dir)\n",
    "print ('the data list is: ',data_dir_list)\n"
   ]
  },
  {
   "cell_type": "code",
   "execution_count": 4,
   "metadata": {},
   "outputs": [],
   "source": [
    "# Assigning labels to each flower category\n",
    "num_classes = 5\n",
    "labels_name={'daisy':0,'dandelion':1,'rose':2,'sunflower':3,'tulip':4}"
   ]
  },
  {
   "cell_type": "code",
   "execution_count": 7,
   "metadata": {},
   "outputs": [
    {
     "name": "stdout",
     "output_type": "stream",
     "text": [
      "Loading the images of dataset-daisy\n",
      "\n",
      "Read 769 images out of 769 images from data dir daisy\n",
      "\n",
      "Loading the images of dataset-dandelion\n",
      "\n",
      "Read 1052 images out of 1052 images from data dir dandelion\n",
      "\n",
      "Loading the images of dataset-rose\n",
      "\n",
      "Read 784 images out of 784 images from data dir rose\n",
      "\n",
      "Loading the images of dataset-sunflower\n",
      "\n",
      "Read 734 images out of 734 images from data dir sunflower\n",
      "\n",
      "Loading the images of dataset-tulip\n",
      "\n",
      "Read 984 images out of 984 images from data dir tulip\n",
      "\n",
      "completed reading all the image files and assigned labels accordingly\n"
     ]
    }
   ],
   "source": [
    "# create two dataframes one for train and other for test with 3 columns as filename,label and classname\n",
    "train_df = pd.DataFrame(columns=['FileName', 'Label', 'ClassName'])\n",
    "test_df = pd.DataFrame(columns=['FileName', 'Label', 'ClassName'])\n",
    "\n",
    "#number of images to take for test data from each flower category\n",
    "num_images_for_test = 60\n",
    "\n",
    "# Here data_dir_list = ['daisy', 'dandelion', 'rose', 'sunflower', 'tulip']\n",
    "# Loop over every flower category\n",
    "for dataset in data_dir_list:\n",
    "    # load the list of image names in each of the flower category\n",
    "    img_list = os.listdir(os.path.join(images_dir,dataset))\n",
    "    print ('Loading the images of dataset-'+'{}\\n'.format(dataset))\n",
    "    label = labels_name[dataset]\n",
    "    num_img_files = len(img_list)\n",
    "    num_corrupted_files=0\n",
    "    test_list_index = random.sample(range(1, num_img_files-1), num_images_for_test)\n",
    "    \n",
    "    # read each file and if it is corrupted exclude it , if not include it in either train or test data frames\n",
    "    for i in range(num_img_files):\n",
    "        img_name = img_list[i]\n",
    "        img_filename = os.path.join(images_dir,dataset,img_name)\n",
    "        try:\n",
    "            input_img = cv2.imread(img_filename)\n",
    "            img_shape=input_img.shape\n",
    "            if i in test_list_index:\n",
    "                test_df = test_df.append({'FileName': img_filename, 'Label': label,'ClassName': dataset},ignore_index=True)\n",
    "            else:\n",
    "                train_df = train_df.append({'FileName': img_filename, 'Label': label,'ClassName': dataset},ignore_index=True)       \n",
    "        except:\n",
    "            print ('{} is corrupted\\n'.format(img_filename))\n",
    "            num_corrupted_files+=1\n",
    "    \n",
    "    \n",
    "    \n",
    "    print ('Read {0} images out of {1} images from data dir {2}\\n'.format(num_img_files-num_corrupted_files,num_img_files,dataset))\n",
    "\n",
    "print ('completed reading all the image files and assigned labels accordingly')\n"
   ]
  },
  {
   "cell_type": "code",
   "execution_count": 8,
   "metadata": {},
   "outputs": [
    {
     "name": "stdout",
     "output_type": "stream",
     "text": [
      "The train and test csv files are saved\n"
     ]
    }
   ],
   "source": [
    "dest_path=os.path.join('dataset','annotations')\n",
    "if not os.path.exists(dest_path):\n",
    "    os.mkdir(dest_path)\n",
    "\n",
    "train_df.to_csv(os.path.join(dest_path,'flowers_recognition_train.csv'))\n",
    "test_df.to_csv(os.path.join(dest_path,'flowers_recognition_test.csv'))\n",
    "print('The train and test csv files are saved')"
   ]
  },
  {
   "cell_type": "code",
   "execution_count": null,
   "metadata": {},
   "outputs": [],
   "source": []
  }
 ],
 "metadata": {
  "kernelspec": {
   "display_name": "Python 3",
   "language": "python",
   "name": "python3"
  },
  "language_info": {
   "codemirror_mode": {
    "name": "ipython",
    "version": 3
   },
   "file_extension": ".py",
   "mimetype": "text/x-python",
   "name": "python",
   "nbconvert_exporter": "python",
   "pygments_lexer": "ipython3",
   "version": "3.7.3"
  }
 },
 "nbformat": 4,
 "nbformat_minor": 2
}
